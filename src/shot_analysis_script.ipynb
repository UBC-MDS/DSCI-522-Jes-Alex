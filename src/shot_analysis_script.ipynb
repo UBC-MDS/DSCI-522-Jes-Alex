{
 "cells": [
  {
   "cell_type": "code",
   "execution_count": 2,
   "metadata": {},
   "outputs": [
    {
     "name": "stderr",
     "output_type": "stream",
     "text": [
      "usage: ipykernel_launcher.py [-h] input_file output_file\n",
      "ipykernel_launcher.py: error: the following arguments are required: output_file\n"
     ]
    },
    {
     "ename": "SystemExit",
     "evalue": "2",
     "output_type": "error",
     "traceback": [
      "An exception has occurred, use %tb to see the full traceback.\n",
      "\u001b[0;31mSystemExit\u001b[0m\u001b[0;31m:\u001b[0m 2\n"
     ]
    },
    {
     "name": "stderr",
     "output_type": "stream",
     "text": [
      "/anaconda3/lib/python3.6/site-packages/IPython/core/interactiveshell.py:2971: UserWarning: To exit: use 'exit', 'quit', or Ctrl-D.\n",
      "  warn(\"To exit: use 'exit', 'quit', or Ctrl-D.\", stacklevel=1)\n"
     ]
    }
   ],
   "source": [
    "#Read input file\n",
    "import argparse\n",
    "import pandas as pd\n",
    "import numpy as np\n",
    "from sklearn.tree import DecisionTreeClassifier, export_graphviz\n",
    "from sklearn.model_selection import train_test_split\n",
    "import matplotlib.pyplot as plt\n",
    "\n",
    "parser = argparse.ArgumentParser()\n",
    "parser.add_argument('input_file')\n",
    "parser.add_argument('output_file')\n",
    "args = parser.parse_args()\n",
    "\n",
    "def main():\n",
    "    #Read player data\n",
    "    player_data = pd.read_csv(args.input_file, sep = ' ', header= None)\n",
    "    \n",
    "    #Create X and y from player_data\n",
    "    X= player_data.drop(['Unnamed: 0', 'SHOT_RESULT'])\n",
    "    y=player_data[['SHOT_RESULT']]\n",
    "    \n",
    "    #Split Dataset by 80-20\n",
    "    Xtrain,Xtest,ytrain,ytest = train_test_split(X,y,test_size=0.2)\n",
    "    \n",
    "    #Try out different k values and plot\n",
    "    depths= range(1,40)\n",
    "    train_accuracy=[]\n",
    "    test_accuracy=[]\n",
    "    for i in depths:\n",
    "        player_shot_model=DecisionTreeClassifier(max_depth=i)\n",
    "        player_shot_model.fit(Xtrain,ytrain)\n",
    "        train_accuracy.append(player_shot_model.score(Xtrain,ytrain))\n",
    "        shot_model.predict(Xtest)\n",
    "        test_accuracy.append(shot_model.score(Xtest,ytest))\n",
    "        \n",
    "    test_train_plot = plt.plot(depths,train_accuracy,label='train')+plt.plot(depths,test_accuracy,label='test')\n",
    "    plt.savefig(args.output_file)\n",
    "\n",
    "if __name__ == \"__main__\":\n",
    "    main()"
   ]
  },
  {
   "cell_type": "code",
   "execution_count": null,
   "metadata": {},
   "outputs": [],
   "source": []
  }
 ],
 "metadata": {
  "kernelspec": {
   "display_name": "Python 3",
   "language": "python",
   "name": "python3"
  },
  "language_info": {
   "codemirror_mode": {
    "name": "ipython",
    "version": 3
   },
   "file_extension": ".py",
   "mimetype": "text/x-python",
   "name": "python",
   "nbconvert_exporter": "python",
   "pygments_lexer": "ipython3",
   "version": "3.6.5"
  }
 },
 "nbformat": 4,
 "nbformat_minor": 2
}
