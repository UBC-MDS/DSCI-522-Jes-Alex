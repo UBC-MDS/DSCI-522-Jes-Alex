{
 "cells": [
  {
   "cell_type": "code",
   "execution_count": 70,
   "metadata": {},
   "outputs": [],
   "source": [
    "import pandas as pd\n",
    "import numpy as np\n",
    "from sklearn.tree import DecisionTreeClassifier, export_graphviz\n",
    "from sklearn.model_selection import train_test_split, cross_val_score\n",
    "import matplotlib.pyplot as plt"
   ]
  },
  {
   "cell_type": "code",
   "execution_count": 131,
   "metadata": {},
   "outputs": [
    {
     "data": {
      "text/html": [
       "<div>\n",
       "<style scoped>\n",
       "    .dataframe tbody tr th:only-of-type {\n",
       "        vertical-align: middle;\n",
       "    }\n",
       "\n",
       "    .dataframe tbody tr th {\n",
       "        vertical-align: top;\n",
       "    }\n",
       "\n",
       "    .dataframe thead th {\n",
       "        text-align: right;\n",
       "    }\n",
       "</style>\n",
       "<table border=\"1\" class=\"dataframe\">\n",
       "  <thead>\n",
       "    <tr style=\"text-align: right;\">\n",
       "      <th></th>\n",
       "      <th>Unnamed: 0</th>\n",
       "      <th>SHOT_CLOCK</th>\n",
       "      <th>SHOT_NUMBER</th>\n",
       "      <th>SHOT_DIST</th>\n",
       "      <th>SHOT_RESULT</th>\n",
       "      <th>TOUCH_TIME</th>\n",
       "      <th>PERIOD</th>\n",
       "      <th>PTS_TYPE</th>\n",
       "      <th>DRIBBLES</th>\n",
       "      <th>CLOSE_DEF_DIST</th>\n",
       "    </tr>\n",
       "  </thead>\n",
       "  <tbody>\n",
       "    <tr>\n",
       "      <th>0</th>\n",
       "      <td>1</td>\n",
       "      <td>13.7</td>\n",
       "      <td>1</td>\n",
       "      <td>7.0</td>\n",
       "      <td>missed</td>\n",
       "      <td>9.5</td>\n",
       "      <td>1</td>\n",
       "      <td>2</td>\n",
       "      <td>9</td>\n",
       "      <td>0.8</td>\n",
       "    </tr>\n",
       "    <tr>\n",
       "      <th>1</th>\n",
       "      <td>2</td>\n",
       "      <td>15.2</td>\n",
       "      <td>2</td>\n",
       "      <td>5.4</td>\n",
       "      <td>missed</td>\n",
       "      <td>7.9</td>\n",
       "      <td>1</td>\n",
       "      <td>2</td>\n",
       "      <td>8</td>\n",
       "      <td>2.5</td>\n",
       "    </tr>\n",
       "    <tr>\n",
       "      <th>2</th>\n",
       "      <td>3</td>\n",
       "      <td>12.3</td>\n",
       "      <td>3</td>\n",
       "      <td>23.2</td>\n",
       "      <td>made</td>\n",
       "      <td>5.6</td>\n",
       "      <td>1</td>\n",
       "      <td>3</td>\n",
       "      <td>0</td>\n",
       "      <td>3.5</td>\n",
       "    </tr>\n",
       "    <tr>\n",
       "      <th>3</th>\n",
       "      <td>4</td>\n",
       "      <td>0.0</td>\n",
       "      <td>4</td>\n",
       "      <td>27.1</td>\n",
       "      <td>missed</td>\n",
       "      <td>2.0</td>\n",
       "      <td>1</td>\n",
       "      <td>3</td>\n",
       "      <td>0</td>\n",
       "      <td>3.9</td>\n",
       "    </tr>\n",
       "    <tr>\n",
       "      <th>4</th>\n",
       "      <td>5</td>\n",
       "      <td>20.8</td>\n",
       "      <td>5</td>\n",
       "      <td>3.1</td>\n",
       "      <td>made</td>\n",
       "      <td>2.7</td>\n",
       "      <td>2</td>\n",
       "      <td>2</td>\n",
       "      <td>2</td>\n",
       "      <td>3.5</td>\n",
       "    </tr>\n",
       "  </tbody>\n",
       "</table>\n",
       "</div>"
      ],
      "text/plain": [
       "   Unnamed: 0  SHOT_CLOCK  SHOT_NUMBER  SHOT_DIST SHOT_RESULT  TOUCH_TIME  \\\n",
       "0           1        13.7            1        7.0      missed         9.5   \n",
       "1           2        15.2            2        5.4      missed         7.9   \n",
       "2           3        12.3            3       23.2        made         5.6   \n",
       "3           4         0.0            4       27.1      missed         2.0   \n",
       "4           5        20.8            5        3.1        made         2.7   \n",
       "\n",
       "   PERIOD  PTS_TYPE  DRIBBLES  CLOSE_DEF_DIST  \n",
       "0       1         2         9             0.8  \n",
       "1       1         2         8             2.5  \n",
       "2       1         3         0             3.5  \n",
       "3       1         3         0             3.9  \n",
       "4       2         2         2             3.5  "
      ]
     },
     "execution_count": 131,
     "metadata": {},
     "output_type": "execute_result"
    }
   ],
   "source": [
    "shot_data = pd.read_csv('../data/lbj_shots_tidy.csv')"
   ]
  },
  {
   "cell_type": "code",
   "execution_count": 122,
   "metadata": {},
   "outputs": [],
   "source": [
    "# Get our features for X and target for y from shot_data\n",
    "X = shot_data.drop(['Unnamed: 0','SHOT_RESULT'], axis = 1)\n",
    "y = shot_data[['SHOT_RESULT']]"
   ]
  },
  {
   "cell_type": "code",
   "execution_count": 123,
   "metadata": {},
   "outputs": [],
   "source": [
    "#Split our Dataset by 80-20\n",
    "Xtrain,Xtest,ytrain,ytest = train_test_split(X,y,test_size=0.2)\n"
   ]
  },
  {
   "cell_type": "code",
   "execution_count": 130,
   "metadata": {},
   "outputs": [
    {
     "name": "stdout",
     "output_type": "stream",
     "text": [
      "0.6938775510204082\n"
     ]
    },
    {
     "data": {
      "image/png": "[encoded data removed]",
      "text/plain": [
       "<Figure size 432x288 with 1 Axes>"
      ]
     },
     "metadata": {},
     "output_type": "display_data"
    }
   ],
   "source": [
    "#5-fold CrossValidation Score with different K's\n",
    "depths = range(1,40)\n",
    "train_accuracy=[]\n",
    "test_accuracy=[]\n",
    "for i in depths:\n",
    "    shot_model=DecisionTreeClassifier(max_depth=i)\n",
    "    shot_model.fit(Xtrain,ytrain)\n",
    "    train_accuracy.append(shot_model.score(Xtrain,ytrain))\n",
    "    shot_model.predict(Xtest)\n",
    "    test_accuracy.append(shot_model.score(Xtest,ytest))\n",
    "\n",
    "\n",
    "plt.plot(depths,train_accuracy, label='train')\n",
    "plt.plot(depths,test_accuracy, label='test')\n",
    "plt.legend()\n",
    "\n",
    "print(max(test_accuracy))"
   ]
  },
  {
   "cell_type": "code",
   "execution_count": 125,
   "metadata": {},
   "outputs": [
    {
     "data": {
      "text/plain": [
       "([<matplotlib.axis.XTick at 0x11c02bc50>,\n",
       "  <matplotlib.axis.XTick at 0x11c02b630>,\n",
       "  <matplotlib.axis.XTick at 0x11c02b390>,\n",
       "  <matplotlib.axis.XTick at 0x11b5ae898>,\n",
       "  <matplotlib.axis.XTick at 0x11b5aeda0>,\n",
       "  <matplotlib.axis.XTick at 0x11b5a52e8>,\n",
       "  <matplotlib.axis.XTick at 0x11b5a57f0>,\n",
       "  <matplotlib.axis.XTick at 0x11b5a5748>],\n",
       " <a list of 8 Text xticklabel objects>)"
      ]
     },
     "execution_count": 125,
     "metadata": {},
     "output_type": "execute_result"
    },
    {
     "data": {
      "image/png": "[encoded data removed]",
      "text/plain": [
       "<Figure size 432x288 with 1 Axes>"
      ]
     },
     "metadata": {},
     "output_type": "display_data"
    }
   ],
   "source": [
    "from sklearn.ensemble import RandomForestClassifier\n",
    "\n",
    "importances = shot_model.feature_importances_\n",
    "\n",
    "\n",
    "feature_names= pd.DataFrame(list(X))\n",
    "\n",
    "plt.bar(range(len(X.columns.values)), shot_model.feature_importances_)\n",
    "plt.xticks(range(len(X.columns.values)),X.columns.values, rotation= 90)"
   ]
  },
  {
   "cell_type": "code",
   "execution_count": 104,
   "metadata": {},
   "outputs": [
    {
     "name": "stdout",
     "output_type": "stream",
     "text": [
      "['SHOT_CLOCK', 'SHOT_NUMBER', 'SHOT_DIST', 'TOUCH_TIME', 'PERIOD', 'PTS_TYPE', 'DRIBBLES', 'CLOSE_DEF_DIST']\n"
     ]
    }
   ],
   "source": [
    "\n",
    "feature_names= list(X) \n",
    "print(feature_names)"
   ]
  },
  {
   "cell_type": "code",
   "execution_count": null,
   "metadata": {},
   "outputs": [],
   "source": []
  }
 ],
 "metadata": {
  "kernelspec": {
   "display_name": "Python 3",
   "language": "python",
   "name": "python3"
  },
  "language_info": {
   "codemirror_mode": {
    "name": "ipython",
    "version": 3
   },
   "file_extension": ".py",
   "mimetype": "text/x-python",
   "name": "python",
   "nbconvert_exporter": "python",
   "pygments_lexer": "ipython3",
   "version": "3.6.5"
  }
 },
 "nbformat": 4,
 "nbformat_minor": 2
}
