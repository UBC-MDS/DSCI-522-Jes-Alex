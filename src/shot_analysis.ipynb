{
 "cells": [
  {
   "cell_type": "code",
   "execution_count": 136,
   "metadata": {},
   "outputs": [],
   "source": [
    "import pandas as pd\n",
    "import numpy as np\n",
    "from sklearn.tree import DecisionTreeClassifier, export_graphviz\n",
    "from sklearn.model_selection import train_test_split\n",
    "import matplotlib.pyplot as plt"
   ]
  },
  {
   "cell_type": "code",
   "execution_count": 137,
   "metadata": {},
   "outputs": [],
   "source": [
    "shot_data = pd.read_csv('../data/lbj_shots_tidy.csv')"
   ]
  },
  {
   "cell_type": "code",
   "execution_count": 138,
   "metadata": {},
   "outputs": [],
   "source": [
    "# Get our features for X and target for y from shot_data\n",
    "X = shot_data.drop(['Unnamed: 0','SHOT_RESULT'], axis = 1)\n",
    "y = shot_data[['SHOT_RESULT']]"
   ]
  },
  {
   "cell_type": "code",
   "execution_count": 139,
   "metadata": {},
   "outputs": [],
   "source": [
    "#Split our Dataset by 80-20\n",
    "Xtrain,Xtest,ytrain,ytest = train_test_split(X,y,test_size=0.2)\n"
   ]
  },
  {
   "cell_type": "code",
   "execution_count": 148,
   "metadata": {},
   "outputs": [
    {
     "ename": "TypeError",
     "evalue": "bad operand type for unary +: 'list'",
     "output_type": "error",
     "traceback": [
      "\u001b[0;31m---------------------------------------------------------------------------\u001b[0m",
      "\u001b[0;31mTypeError\u001b[0m                                 Traceback (most recent call last)",
      "\u001b[0;32m<ipython-input-148-174a2a5c0c65>\u001b[0m in \u001b[0;36m<module>\u001b[0;34m()\u001b[0m\n\u001b[1;32m     12\u001b[0m \u001b[0;34m\u001b[0m\u001b[0m\n\u001b[1;32m     13\u001b[0m \u001b[0mplt\u001b[0m\u001b[0;34m.\u001b[0m\u001b[0mplot\u001b[0m\u001b[0;34m(\u001b[0m\u001b[0mdepths\u001b[0m\u001b[0;34m,\u001b[0m\u001b[0mtrain_accuracy\u001b[0m\u001b[0;34m,\u001b[0m \u001b[0mlabel\u001b[0m\u001b[0;34m=\u001b[0m\u001b[0;34m'train'\u001b[0m\u001b[0;34m)\u001b[0m\u001b[0;34m\u001b[0m\u001b[0m\n\u001b[0;32m---> 14\u001b[0;31m \u001b[0;34m+\u001b[0m\u001b[0mplt\u001b[0m\u001b[0;34m.\u001b[0m\u001b[0mplot\u001b[0m\u001b[0;34m(\u001b[0m\u001b[0mdepths\u001b[0m\u001b[0;34m,\u001b[0m\u001b[0mtest_accuracy\u001b[0m\u001b[0;34m,\u001b[0m \u001b[0mlabel\u001b[0m\u001b[0;34m=\u001b[0m\u001b[0;34m'test'\u001b[0m\u001b[0;34m)\u001b[0m\u001b[0;34m\u001b[0m\u001b[0m\n\u001b[0m\u001b[1;32m     15\u001b[0m \u001b[0mplt\u001b[0m\u001b[0;34m.\u001b[0m\u001b[0mlegend\u001b[0m\u001b[0;34m(\u001b[0m\u001b[0;34m)\u001b[0m\u001b[0;34m\u001b[0m\u001b[0m\n\u001b[1;32m     16\u001b[0m \u001b[0;34m\u001b[0m\u001b[0m\n",
      "\u001b[0;31mTypeError\u001b[0m: bad operand type for unary +: 'list'"
     ]
    },
    {
     "data": {
      "image/png": "[encoded data removed]",
      "text/plain": [
       "<Figure size 432x288 with 1 Axes>"
      ]
     },
     "metadata": {},
     "output_type": "display_data"
    }
   ],
   "source": [
    "#Try out different K values\n",
    "depths = range(1,40)\n",
    "train_accuracy=[]\n",
    "test_accuracy=[]\n",
    "for i in depths:\n",
    "    shot_model=DecisionTreeClassifier(max_depth=i)\n",
    "    shot_model.fit(Xtrain,ytrain)\n",
    "    train_accuracy.append(shot_model.score(Xtrain,ytrain))\n",
    "    shot_model.predict(Xtest)\n",
    "    test_accuracy.append(shot_model.score(Xtest,ytest))\n",
    "\n",
    "\n",
    "plt.plot(depths,train_accuracy, label='train')+plt.plot(depths,test_accuracy, label='test')\n",
    "plt.legend()\n",
    "\n",
    "print(max(test_accuracy))"
   ]
  },
  {
   "cell_type": "code",
   "execution_count": 125,
   "metadata": {},
   "outputs": [
    {
     "data": {
      "text/plain": [
       "([<matplotlib.axis.XTick at 0x11c02bc50>,\n",
       "  <matplotlib.axis.XTick at 0x11c02b630>,\n",
       "  <matplotlib.axis.XTick at 0x11c02b390>,\n",
       "  <matplotlib.axis.XTick at 0x11b5ae898>,\n",
       "  <matplotlib.axis.XTick at 0x11b5aeda0>,\n",
       "  <matplotlib.axis.XTick at 0x11b5a52e8>,\n",
       "  <matplotlib.axis.XTick at 0x11b5a57f0>,\n",
       "  <matplotlib.axis.XTick at 0x11b5a5748>],\n",
       " <a list of 8 Text xticklabel objects>)"
      ]
     },
     "execution_count": 125,
     "metadata": {},
     "output_type": "execute_result"
    },
    {
     "data": {
      "image/png": "[encoded data removed]",
      "text/plain": [
       "<Figure size 432x288 with 1 Axes>"
      ]
     },
     "metadata": {},
     "output_type": "display_data"
    }
   ],
   "source": [
    "from sklearn.ensemble import RandomForestClassifier\n",
    "\n",
    "importances = shot_model.feature_importances_\n",
    "\n",
    "\n",
    "feature_names= pd.DataFrame(list(X))\n",
    "\n",
    "plt.bar(range(len(X.columns.values)), shot_model.feature_importances_)\n",
    "plt.xticks(range(len(X.columns.values)),X.columns.values, rotation= 90)"
   ]
  },
  {
   "cell_type": "code",
   "execution_count": 104,
   "metadata": {},
   "outputs": [
    {
     "name": "stdout",
     "output_type": "stream",
     "text": [
      "['SHOT_CLOCK', 'SHOT_NUMBER', 'SHOT_DIST', 'TOUCH_TIME', 'PERIOD', 'PTS_TYPE', 'DRIBBLES', 'CLOSE_DEF_DIST']\n"
     ]
    }
   ],
   "source": [
    "\n",
    "feature_names= list(X) \n",
    "print(feature_names)"
   ]
  },
  {
   "cell_type": "code",
   "execution_count": null,
   "metadata": {},
   "outputs": [],
   "source": []
  }
 ],
 "metadata": {
  "kernelspec": {
   "display_name": "Python 3",
   "language": "python",
   "name": "python3"
  },
  "language_info": {
   "codemirror_mode": {
    "name": "ipython",
    "version": 3
   },
   "file_extension": ".py",
   "mimetype": "text/x-python",
   "name": "python",
   "nbconvert_exporter": "python",
   "pygments_lexer": "ipython3",
   "version": "3.6.5"
  }
 },
 "nbformat": 4,
 "nbformat_minor": 2
}
