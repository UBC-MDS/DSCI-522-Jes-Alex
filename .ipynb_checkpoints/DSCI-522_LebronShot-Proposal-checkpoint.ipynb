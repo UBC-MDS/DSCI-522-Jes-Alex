{
 "cells": [
  {
   "cell_type": "markdown",
   "metadata": {},
   "source": [
    "## Identifying a Dataset, Question & Plan of Action\n",
    "\n",
    "### Dataset\n",
    "\n",
    "We have chosen a shot log dataset from the NBA that recorded a range of different characteristics concerning every shot taken by every NBA player across the entire 2014-2015 season. These characteristics include the shot distance, # of dribbles prior to the shot, pts_type (1,2,3 point shot), shot_block, game_clock, period (which quarter),  touch_time(how long they held the ball prior to shooting it), and finally, shot_result (made or missed).\n",
    "\n",
    "### Question \n",
    "\n",
    "Considering there are hundreds of players in the NBA with differing skillsets and styles of play, we narrowed our analyses to simply a single player, Lebron James. We did this to hopefully get at the nuances of what conditions best explain Lebron's shooting percentage. With this in mind our question is, what features can classify whether Lebron makes a shot or misses it?\n",
    "\n",
    "\n",
    "### Plan of Action\n",
    "\n",
    "Our approach to this dataset is to examine the features discussed above that form the preconditions for any shot attempt, and determine how well they explain whether the shot was made or missed. We intend to do this using decision tree classification with our labels being 'made' or 'missed' and our features being all of the characteristics described above.\n",
    "\n",
    "\n",
    "\n"
   ]
  }
 ],
 "metadata": {
  "kernelspec": {
   "display_name": "R",
   "language": "R",
   "name": "ir"
  },
  "language_info": {
   "codemirror_mode": "r",
   "file_extension": ".r",
   "mimetype": "text/x-r-source",
   "name": "R",
   "pygments_lexer": "r",
   "version": "3.5.1"
  }
 },
 "nbformat": 4,
 "nbformat_minor": 2
}
